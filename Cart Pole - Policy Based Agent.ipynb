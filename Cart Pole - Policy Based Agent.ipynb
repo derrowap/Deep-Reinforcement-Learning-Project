{
 "cells": [
  {
   "cell_type": "markdown",
   "metadata": {},
   "source": [
    "# Cart Pole - Policy Based Agent"
   ]
  },
  {
   "cell_type": "code",
   "execution_count": 1,
   "metadata": {
    "collapsed": false
   },
   "outputs": [],
   "source": [
    "import numpy as np\n",
    "import tensorflow as tf\n",
    "%matplotlib inline\n",
    "import matplotlib.pyplot as plt\n",
    "import math"
   ]
  },
  {
   "cell_type": "markdown",
   "metadata": {},
   "source": [
    "#### Load the CartPole Environment"
   ]
  },
  {
   "cell_type": "code",
   "execution_count": 2,
   "metadata": {
    "collapsed": false
   },
   "outputs": [
    {
     "name": "stderr",
     "output_type": "stream",
     "text": [
      "[2016-10-19 14:46:56,449] Making new env: CartPole-v0\n"
     ]
    }
   ],
   "source": [
    "import gym\n",
    "env = gym.make('CartPole-v0')"
   ]
  },
  {
   "cell_type": "markdown",
   "metadata": {},
   "source": [
    "#### Random Actions"
   ]
  },
  {
   "cell_type": "code",
   "execution_count": 3,
   "metadata": {
    "collapsed": false
   },
   "outputs": [
    {
     "name": "stdout",
     "output_type": "stream",
     "text": [
      "Reward for this episode was: 19.000000\n",
      "Reward for this episode was: 17.000000\n",
      "Reward for this episode was: 16.000000\n",
      "Reward for this episode was: 19.000000\n",
      "Reward for this episode was: 14.000000\n",
      "Reward for this episode was: 17.000000\n",
      "Reward for this episode was: 10.000000\n",
      "Reward for this episode was: 13.000000\n",
      "Reward for this episode was: 33.000000\n",
      "Reward for this episode was: 19.000000\n"
     ]
    }
   ],
   "source": [
    "env.reset()\n",
    "random_episodes = 0\n",
    "reward_sum = 0\n",
    "while random_episodes < 10:\n",
    "    env.render()\n",
    "    observation, reward, done, _ = env.step(np.random.randint(0, 2))\n",
    "    reward_sum += reward\n",
    "    if done:\n",
    "        random_episodes += 1\n",
    "        print(\"Reward for this episode was: %f\" % reward_sum)\n",
    "        reward_sum = 0\n",
    "        env.reset()\n",
    "        \n",
    "# close window\n",
    "env.viewer.close()\n",
    "\n",
    "# have to do this or next time you try to render, it will throw error\n",
    "env.viewer = None"
   ]
  },
  {
   "cell_type": "markdown",
   "metadata": {},
   "source": [
    "#### Setting up Neural Network"
   ]
  },
  {
   "cell_type": "code",
   "execution_count": 4,
   "metadata": {
    "collapsed": true
   },
   "outputs": [],
   "source": [
    "# hyperparameters\n",
    "H = 10 # number of hidden layer neurons\n",
    "batch_size = 50 # every how many episodes to do a param update?\n",
    "learning_rate = 1e-2 # feel free to play with this to train faster or more stably.\n",
    "gamma = 0.99 # discount factor for reward\n",
    "\n",
    "D = 4 # input dimensionality"
   ]
  },
  {
   "cell_type": "code",
   "execution_count": 5,
   "metadata": {
    "collapsed": true
   },
   "outputs": [],
   "source": [
    "tf.reset_default_graph()\n",
    "\n",
    "#This defines the network as it goes from taking an observation of the environment to \n",
    "#giving a probability of chosing to the action of moving left or right.\n",
    "observations = tf.placeholder(tf.float32, [None, D], name=\"input_x\")\n",
    "W1 = tf.get_variable(\"W1\", shape=[D, H],\n",
    "           initializer=tf.contrib.layers.xavier_initializer())\n",
    "layer1 = tf.nn.relu(tf.matmul(observations,W1))\n",
    "\n",
    "W2 = tf.get_variable(\"W2\", shape=[H, 1],\n",
    "           initializer=tf.contrib.layers.xavier_initializer())\n",
    "\n",
    "score = tf.matmul(layer1,W2)\n",
    "\n",
    "probability = tf.nn.sigmoid(score)\n",
    "\n",
    "#From here we define the parts of the network needed for learning a good policy.\n",
    "tvars = tf.trainable_variables()\n",
    "input_y = tf.placeholder(tf.float32, [None, 1], name=\"input_y\")\n",
    "advantages = tf.placeholder(tf.float32, name=\"reward_signal\")\n",
    "\n",
    "# The loss function. This sends the weights in the direction of making actions \n",
    "# that gave good advantage (reward over time) more likely, and actions that didn't less likely.\n",
    "loss = -tf.reduce_mean((tf.log(input_y - probability)) * advantages) \n",
    "newGrads = tf.gradients(loss, tvars)\n",
    "\n",
    "# Once we have collected a series of gradients from multiple episodes, we apply them.\n",
    "# We don't just apply gradeients after every episode in order to account for noise in the reward signal.\n",
    "adam = tf.train.AdamOptimizer(learning_rate=learning_rate) # Our optimizer\n",
    "W1Grad = tf.placeholder(tf.float32, name=\"batch_grad1\") # Placeholders to send the final gradients through when we update.\n",
    "W2Grad = tf.placeholder(tf.float32, name=\"batch_grad2\")\n",
    "batchGrad = [W1Grad, W2Grad]\n",
    "updateGrads = adam.apply_gradients(zip(batchGrad, tvars))"
   ]
  },
  {
   "cell_type": "markdown",
   "metadata": {},
   "source": [
    "#### Advantage function"
   ]
  },
  {
   "cell_type": "code",
   "execution_count": 6,
   "metadata": {
    "collapsed": true
   },
   "outputs": [],
   "source": [
    "def discount_rewards(r):\n",
    "    \"\"\" take 1D float array of rewards and compute discounted reward \"\"\"\n",
    "    discounted_r = np.zeros_like(r)\n",
    "    running_add = 0\n",
    "    for t in reversed(range(0, r.size)):\n",
    "        running_add = running_add * gamma + r[t]\n",
    "        discounted_r[t] = running_add\n",
    "    return discounted_r"
   ]
  },
  {
   "cell_type": "markdown",
   "metadata": {},
   "source": [
    "#### Run the Agent on the Environment"
   ]
  },
  {
   "cell_type": "code",
   "execution_count": 7,
   "metadata": {
    "collapsed": false
   },
   "outputs": [
    {
     "name": "stdout",
     "output_type": "stream",
     "text": [
      "Average reward for episode 24.980000.  Total average reward 24.980000.\n",
      "Average reward for episode 20.300000.  Total average reward 24.933200.\n",
      "Average reward for episode 26.680000.  Total average reward 24.950668.\n",
      "Average reward for episode 22.400000.  Total average reward 24.925161.\n",
      "Average reward for episode 21.960000.  Total average reward 24.895510.\n",
      "Average reward for episode 21.940000.  Total average reward 24.865955.\n",
      "Average reward for episode 26.120000.  Total average reward 24.878495.\n",
      "Average reward for episode 27.940000.  Total average reward 24.909110.\n",
      "Average reward for episode 27.020000.  Total average reward 24.930219.\n",
      "Average reward for episode 27.180000.  Total average reward 24.952717.\n",
      "Average reward for episode 25.760000.  Total average reward 24.960790.\n",
      "Average reward for episode 28.440000.  Total average reward 24.995582.\n",
      "Average reward for episode 30.860000.  Total average reward 25.054226.\n",
      "Average reward for episode 29.780000.  Total average reward 25.101484.\n",
      "Average reward for episode 28.760000.  Total average reward 25.138069.\n",
      "Average reward for episode 36.420000.  Total average reward 25.250888.\n",
      "Average reward for episode 30.440000.  Total average reward 25.302779.\n",
      "Average reward for episode 36.500000.  Total average reward 25.414751.\n",
      "Average reward for episode 36.260000.  Total average reward 25.523204.\n",
      "Average reward for episode 36.760000.  Total average reward 25.635572.\n",
      "Average reward for episode 31.980000.  Total average reward 25.699016.\n",
      "Average reward for episode 38.320000.  Total average reward 25.825226.\n",
      "Average reward for episode 39.140000.  Total average reward 25.958374.\n",
      "Average reward for episode 41.440000.  Total average reward 26.113190.\n",
      "Average reward for episode 38.480000.  Total average reward 26.236858.\n",
      "Average reward for episode 45.740000.  Total average reward 26.431890.\n",
      "Average reward for episode 47.060000.  Total average reward 26.638171.\n",
      "Average reward for episode 50.900000.  Total average reward 26.880789.\n",
      "Average reward for episode 55.460000.  Total average reward 27.166581.\n",
      "Average reward for episode 50.480000.  Total average reward 27.399715.\n",
      "Average reward for episode 53.960000.  Total average reward 27.665318.\n",
      "Average reward for episode 56.260000.  Total average reward 27.951265.\n",
      "Average reward for episode 52.100000.  Total average reward 28.192752.\n",
      "Average reward for episode 54.840000.  Total average reward 28.459225.\n",
      "Average reward for episode 50.260000.  Total average reward 28.677233.\n",
      "Average reward for episode 53.520000.  Total average reward 28.925660.\n",
      "Average reward for episode 53.120000.  Total average reward 29.167604.\n",
      "Average reward for episode 55.320000.  Total average reward 29.429128.\n",
      "Average reward for episode 56.100000.  Total average reward 29.695836.\n",
      "Average reward for episode 54.940000.  Total average reward 29.948278.\n",
      "Average reward for episode 60.260000.  Total average reward 30.251395.\n",
      "Average reward for episode 67.740000.  Total average reward 30.626281.\n",
      "Average reward for episode 66.840000.  Total average reward 30.988418.\n",
      "Average reward for episode 62.480000.  Total average reward 31.303334.\n",
      "Average reward for episode 68.260000.  Total average reward 31.672901.\n",
      "Average reward for episode 65.600000.  Total average reward 32.012172.\n",
      "Average reward for episode 57.400000.  Total average reward 32.266050.\n",
      "Average reward for episode 69.000000.  Total average reward 32.633390.\n",
      "Average reward for episode 74.380000.  Total average reward 33.050856.\n",
      "Average reward for episode 76.960000.  Total average reward 33.489947.\n",
      "Average reward for episode 78.040000.  Total average reward 33.935448.\n",
      "Average reward for episode 81.120000.  Total average reward 34.407293.\n",
      "Average reward for episode 83.220000.  Total average reward 34.895420.\n",
      "Average reward for episode 73.700000.  Total average reward 35.283466.\n",
      "Average reward for episode 81.620000.  Total average reward 35.746831.\n",
      "Average reward for episode 85.300000.  Total average reward 36.242363.\n",
      "Average reward for episode 84.780000.  Total average reward 36.727739.\n",
      "Average reward for episode 90.360000.  Total average reward 37.264062.\n",
      "Average reward for episode 92.900000.  Total average reward 37.820421.\n",
      "Average reward for episode 94.360000.  Total average reward 38.385817.\n",
      "Average reward for episode 110.940000.  Total average reward 39.111359.\n",
      "Average reward for episode 113.280000.  Total average reward 39.853045.\n",
      "Average reward for episode 120.160000.  Total average reward 40.656115.\n",
      "Average reward for episode 118.460000.  Total average reward 41.434154.\n",
      "Average reward for episode 137.380000.  Total average reward 42.393612.\n",
      "Average reward for episode 145.520000.  Total average reward 43.424876.\n",
      "Average reward for episode 134.840000.  Total average reward 44.339027.\n",
      "Average reward for episode 148.840000.  Total average reward 45.384037.\n",
      "Average reward for episode 157.020000.  Total average reward 46.500397.\n",
      "Average reward for episode 164.960000.  Total average reward 47.684993.\n",
      "Average reward for episode 184.220000.  Total average reward 49.050343.\n",
      "Average reward for episode 191.560000.  Total average reward 50.475439.\n",
      "Average reward for episode 196.700000.  Total average reward 51.937685.\n",
      "Average reward for episode 186.300000.  Total average reward 53.281308.\n",
      "Average reward for episode 219.020000.  Total average reward 54.938695.\n",
      "Task solved in 3750 episodes!\n",
      "3750 Episodes completed.\n"
     ]
    }
   ],
   "source": [
    "xs,hs,dlogps,drs,ys,tfps = [],[],[],[],[],[]\n",
    "running_reward = None\n",
    "reward_sum = 0\n",
    "episode_number = 1\n",
    "total_episodes = 10000\n",
    "init = tf.initialize_all_variables()\n",
    "# Launch the graph\n",
    "with tf.Session() as sess:\n",
    "    rendering = False\n",
    "    finished = False\n",
    "    sess.run(init)\n",
    "    observation = env.reset() # Obtain an initial observation of the environment\n",
    "\n",
    "    # Reset the gradient placeholder. We will collect gradients in \n",
    "    # gradBuffer until we are ready to update our policy network. \n",
    "    gradBuffer = sess.run(tvars)\n",
    "    for ix,grad in enumerate(gradBuffer):\n",
    "        gradBuffer[ix] = grad * 0\n",
    "    \n",
    "    while episode_number <= total_episodes:\n",
    "        \n",
    "        # Rendering the environment slows things down, \n",
    "        # so let's only look at it once our agent is doing a good job.\n",
    "        if reward_sum/batch_size > 180 or rendering == True :\n",
    "            if finished == True:\n",
    "                env.monitor.start('/tmp/cartpole-experiment-1', force=True)\n",
    "                observation = env.reset()\n",
    "            env.render()\n",
    "            rendering = True\n",
    "            \n",
    "        # Make sure the observation is in a shape the network can handle.\n",
    "        x = np.reshape(observation, [1, D])\n",
    "        \n",
    "        # Run the policy network and get an action to take. \n",
    "        tfprob = sess.run(probability, feed_dict={observations: x})\n",
    "        action = 1 if np.random.uniform() < tfprob else 0\n",
    "        \n",
    "        xs.append(x) # observation\n",
    "        y = 1 if action == 0 else 0 # a \"fake label\"\n",
    "        ys.append(y)\n",
    "\n",
    "        # step the environment and get new measurements\n",
    "        observation, reward, done, info = env.step(action)\n",
    "        reward_sum += reward\n",
    "\n",
    "        drs.append(reward) # record reward (has to be done after we call step() to get reward for previous action)\n",
    "\n",
    "        if done: \n",
    "            episode_number += 1\n",
    "            # stack together all inputs, hidden states, action gradients, and rewards for this episode\n",
    "            epx = np.vstack(xs)\n",
    "            epy = np.vstack(ys)\n",
    "            epr = np.vstack(drs)\n",
    "            tfp = tfps\n",
    "            xs,hs,dlogps,drs,ys,tfps = [],[],[],[],[],[] # reset array memory\n",
    "\n",
    "            # compute the discounted reward backwards through time\n",
    "            discounted_epr = discount_rewards(epr)\n",
    "            # size the rewards to be unit normal (helps control the gradient estimator variance)\n",
    "            discounted_epr -= np.mean(discounted_epr)\n",
    "            discounted_epr /= np.std(discounted_epr)\n",
    "            \n",
    "            # Get the gradient for this episode, and save it in the gradBuffer\n",
    "            tGrad = sess.run(newGrads,feed_dict={observations: epx, input_y: epy, advantages: discounted_epr})\n",
    "            for ix,grad in enumerate(tGrad):\n",
    "                gradBuffer[ix] += grad\n",
    "                \n",
    "            # If we have completed enough episodes, then update the policy network with our gradients.\n",
    "            if episode_number % batch_size == 0: \n",
    "                sess.run(updateGrads,feed_dict={W1Grad: gradBuffer[0],W2Grad:gradBuffer[1]})\n",
    "                for ix,grad in enumerate(gradBuffer):\n",
    "                    gradBuffer[ix] = grad * 0\n",
    "                \n",
    "                # Give a summary of how well our network is doing for each batch of episodes.\n",
    "                running_reward = reward_sum if running_reward is None else running_reward * 0.99 + reward_sum * 0.01\n",
    "                print('Average reward for episode %f.  Total average reward %f.' % (reward_sum/batch_size, running_reward/batch_size))\n",
    "                \n",
    "                if reward_sum/batch_size > 200: \n",
    "                    print(\"Task solved in\", episode_number, 'episodes!')\n",
    "                    finished = True\n",
    "                    if (finished):\n",
    "                        break\n",
    "                    \n",
    "                reward_sum = 0\n",
    "            \n",
    "            observation = env.reset()\n",
    "        \n",
    "env.monitor.close()\n",
    "env.viewer.close()\n",
    "env.viewer = None\n",
    "print(episode_number, 'Episodes completed.')"
   ]
  }
 ],
 "metadata": {
  "anaconda-cloud": {},
  "kernelspec": {
   "display_name": "Python [conda root]",
   "language": "python",
   "name": "conda-root-py"
  },
  "language_info": {
   "codemirror_mode": {
    "name": "ipython",
    "version": 3
   },
   "file_extension": ".py",
   "mimetype": "text/x-python",
   "name": "python",
   "nbconvert_exporter": "python",
   "pygments_lexer": "ipython3",
   "version": "3.5.2"
  }
 },
 "nbformat": 4,
 "nbformat_minor": 1
}
