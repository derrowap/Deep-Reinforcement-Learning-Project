{
 "cells": [
  {
   "cell_type": "code",
   "execution_count": null,
   "metadata": {
    "collapsed": true
   },
   "outputs": [],
   "source": [
    "import gym\n",
    "import numpy as np\n",
    "import os"
   ]
  },
  {
   "cell_type": "code",
   "execution_count": null,
   "metadata": {
    "collapsed": false
   },
   "outputs": [],
   "source": [
    "env = gym.make('Breakout-v0')"
   ]
  },
  {
   "cell_type": "code",
   "execution_count": null,
   "metadata": {
    "collapsed": false
   },
   "outputs": [],
   "source": [
    "env.reset()\n",
    "\n",
    "input_array = []\n",
    "image_array = []\n",
    "reward_array = []\n",
    "\n",
    "while True:\n",
    "    env.render()\n",
    "    \n",
    "    value = input()\n",
    "    \n",
    "    image = env.ale.getScreenGrayscale().reshape(210, 160)\n",
    "        \n",
    "    action = 0\n",
    "    \n",
    "    if value == \"q\":\n",
    "        break\n",
    "    elif value == \"1\":\n",
    "        action = 3\n",
    "    elif value == \"2\":\n",
    "        action = 4\n",
    "    elif value == \"3\":\n",
    "        action = 1\n",
    "    elif value == \"0\":\n",
    "        action = 0\n",
    "        \n",
    "    observation, reward, done, _ = env.step(action)\n",
    "    \n",
    "    image_array.append(image)\n",
    "    input_array.append(action)\n",
    "    reward_array.append(reward)\n",
    "\n",
    "env.viewer.close()\n",
    "env.viewer = None"
   ]
  },
  {
   "cell_type": "code",
   "execution_count": null,
   "metadata": {
    "collapsed": true
   },
   "outputs": [],
   "source": [
    "np.savez_compressed(\"userdata\", actions=input_array, states=image_array, rewards=reward_array)"
   ]
  }
 ],
 "metadata": {
  "anaconda-cloud": {},
  "kernelspec": {
   "display_name": "Python [conda root]",
   "language": "python",
   "name": "conda-root-py"
  },
  "language_info": {
   "codemirror_mode": {
    "name": "ipython",
    "version": 3
   },
   "file_extension": ".py",
   "mimetype": "text/x-python",
   "name": "python",
   "nbconvert_exporter": "python",
   "pygments_lexer": "ipython3",
   "version": "3.5.2"
  }
 },
 "nbformat": 4,
 "nbformat_minor": 0
}
