{
 "cells": [
  {
   "cell_type": "code",
   "execution_count": 2,
   "metadata": {
    "collapsed": true
   },
   "outputs": [],
   "source": [
    "import gym\n",
    "import numpy as np\n",
    "import os"
   ]
  },
  {
   "cell_type": "code",
   "execution_count": 3,
   "metadata": {
    "collapsed": false
   },
   "outputs": [
    {
     "name": "stderr",
     "output_type": "stream",
     "text": [
      "[2016-11-07 19:29:57,858] Making new env: Breakout-v0\n"
     ]
    }
   ],
   "source": [
    "env = gym.make('Breakout-v0')"
   ]
  },
  {
   "cell_type": "code",
   "execution_count": 17,
   "metadata": {
    "collapsed": false
   },
   "outputs": [
    {
     "name": "stdout",
     "output_type": "stream",
     "text": [
      "q\n"
     ]
    }
   ],
   "source": [
    "env.reset()\n",
    "\n",
    "input_array = []\n",
    "image_array = []\n",
    "reward_array = []\n",
    "\n",
    "while True:\n",
    "    env.render()\n",
    "    \n",
    "    value = input()\n",
    "    \n",
    "    image = env.ale.getScreenGrayscale().reshape(210, 160)\n",
    "        \n",
    "    action = 0\n",
    "    \n",
    "    if value == \"q\":\n",
    "        break\n",
    "    elif value == \"1\":\n",
    "        action = 3\n",
    "    elif value == \"2\":\n",
    "        action = 4\n",
    "    elif value == \"3\":\n",
    "        action = 1\n",
    "    elif value == \"0\":\n",
    "        action = 0\n",
    "        \n",
    "    observation, reward, done, _ = env.step(action)\n",
    "    \n",
    "    image_array.append(image)\n",
    "    input_array.append(action)\n",
    "    reward_array.append(reward)\n",
    "\n",
    "env.viewer.close()\n",
    "env.viewer = None"
   ]
  },
  {
   "cell_type": "code",
   "execution_count": 15,
   "metadata": {
    "collapsed": false
   },
   "outputs": [
    {
     "data": {
      "text/plain": [
       "2044"
      ]
     },
     "execution_count": 15,
     "metadata": {},
     "output_type": "execute_result"
    }
   ],
   "source": [
    "len(reward_array) "
   ]
  },
  {
   "cell_type": "code",
   "execution_count": 16,
   "metadata": {
    "collapsed": true
   },
   "outputs": [],
   "source": [
    "np.savez_compressed(\"userdata\", actions=input_array, states=image_array, rewards=reward_array)"
   ]
  },
  {
   "cell_type": "code",
   "execution_count": null,
   "metadata": {
    "collapsed": true
   },
   "outputs": [],
   "source": []
  }
 ],
 "metadata": {
  "kernelspec": {
   "display_name": "Python [Root]",
   "language": "python",
   "name": "Python [Root]"
  },
  "language_info": {
   "codemirror_mode": {
    "name": "ipython",
    "version": 3
   },
   "file_extension": ".py",
   "mimetype": "text/x-python",
   "name": "python",
   "nbconvert_exporter": "python",
   "pygments_lexer": "ipython3",
   "version": "3.5.2"
  }
 },
 "nbformat": 4,
 "nbformat_minor": 0
}
